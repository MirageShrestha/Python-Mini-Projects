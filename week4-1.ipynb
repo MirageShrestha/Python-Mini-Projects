{
 "cells": [
  {
   "cell_type": "code",
   "execution_count": 8,
   "id": "e1bc0521-6d2a-4dd3-9f33-a981fb769608",
   "metadata": {},
   "outputs": [
    {
     "data": {
      "image/png": "[encoded data removed]",
      "text/plain": [
       "<Figure size 640x480 with 1 Axes>"
      ]
     },
     "metadata": {},
     "output_type": "display_data"
    }
   ],
   "source": [
    "import numpy as np\n",
    "import matplotlib.pyplot as plt\n",
    "from sklearn.linear_model import LinearRegression, Ridge\n",
    "X = np.arange(1, 101, 1)\n",
    "\n",
    "y = 2 * X + (3 + np.random.normal(0, 10, 100))\n",
    "plt.scatter(X, y)\n",
    "\n",
    "X.reshape(-1, 1).shape\n",
    "model = Ridge()\n",
    "model.fit(X.reshape(-1, 1), y)\n",
    "model.coef_, model.intercept_\n",
    "y1, y2 = model.predict(np.array([[0], [100]]))\n",
    "\n",
    "plt.plot([0,100], [y1, y2], color=\"red\")\n",
    "plt.scatter(X, y, color=\"blue\")\n",
    "plt.show()"
   ]
  },
  {
   "cell_type": "code",
   "execution_count": 9,
   "id": "c2718051-54da-40ce-a4df-b3e918fa486b",
   "metadata": {},
   "outputs": [],
   "source": [
    "# created data\n",
    "import numpy as np\n",
    "from sklearn.linear_model import LinearRegression, Ridge\n",
    "X = np.random.random((1000, 10))\n",
    "w = np.array([1, 2, 3, 4, 5, 6, 7, 8, 9, 10])\n",
    "y =  X@w + 5 * np.random.random()"
   ]
  },
  {
   "cell_type": "code",
   "execution_count": 10,
   "id": "a9129ced-5e9f-463f-8c7f-9287b68c5c57",
   "metadata": {},
   "outputs": [
    {
     "data": {
      "text/plain": [
       "array([385.35748022])"
      ]
     },
     "execution_count": 10,
     "metadata": {},
     "output_type": "execute_result"
    }
   ],
   "source": [
    "# train model\n",
    "model = LinearRegression()\n",
    "model.fit(X, y)\n",
    "model.predict([[1, 2, 3, 4, 5, 6, 7, 8, 9, 10]])"
   ]
  },
  {
   "cell_type": "code",
   "execution_count": 11,
   "id": "15113c6d-c394-470e-bf3b-a1bc5e37b428",
   "metadata": {},
   "outputs": [],
   "source": [
    "from sklearn.metrics import mean_absolute_error"
   ]
  },
  {
   "cell_type": "code",
   "execution_count": 12,
   "id": "cbaf9544-33a1-4b96-af93-56741d940627",
   "metadata": {},
   "outputs": [
    {
     "data": {
      "text/plain": [
       "8.670397733112623e-15"
      ]
     },
     "execution_count": 12,
     "metadata": {},
     "output_type": "execute_result"
    }
   ],
   "source": [
    "y_prediction = model.predict(X)\n",
    "mean_absolute_error(y, y_prediction)"
   ]
  },
  {
   "cell_type": "code",
   "execution_count": 13,
   "id": "4b625a8c-f162-432c-8cb3-862b76443873",
   "metadata": {},
   "outputs": [],
   "source": [
    "from sklearn.model_selection import train_test_split"
   ]
  },
  {
   "cell_type": "code",
   "execution_count": 14,
   "id": "82498eda-e802-4dbf-8349-2a5111ac8054",
   "metadata": {},
   "outputs": [],
   "source": [
    "X_train, X_test, y_train, y_test = train_test_split(X, y)"
   ]
  },
  {
   "cell_type": "code",
   "execution_count": 15,
   "id": "d646c5a2-fdfc-425e-9d06-06e30e1f4b1c",
   "metadata": {},
   "outputs": [
    {
     "data": {
      "text/plain": [
       "(750, 250, 750, 250)"
      ]
     },
     "execution_count": 15,
     "metadata": {},
     "output_type": "execute_result"
    }
   ],
   "source": [
    "len(X_train), len(X_test), len(y_train), len(y_test)"
   ]
  },
  {
   "cell_type": "code",
   "execution_count": 16,
   "id": "aa1a3bc0-b1c0-417f-b95c-2f64839baff9",
   "metadata": {},
   "outputs": [
    {
     "data": {
      "text/plain": [
       "array([385.35748022])"
      ]
     },
     "execution_count": 16,
     "metadata": {},
     "output_type": "execute_result"
    }
   ],
   "source": [
    "# train model\n",
    "model = LinearRegression()\n",
    "model.fit(X_train, y_train)\n",
    "model.predict([[1, 2, 3, 4, 5, 6, 7, 8, 9, 10]])"
   ]
  },
  {
   "cell_type": "code",
   "execution_count": 17,
   "id": "76b0357e-b8fd-442f-a2e0-5f35956c0f32",
   "metadata": {},
   "outputs": [
    {
     "data": {
      "text/plain": [
       "5.833555860590422e-15"
      ]
     },
     "execution_count": 17,
     "metadata": {},
     "output_type": "execute_result"
    }
   ],
   "source": [
    "y_prediction = model.predict(X_test)\n",
    "mean_absolute_error(y_test, y_prediction)"
   ]
  },
  {
   "cell_type": "code",
   "execution_count": 18,
   "id": "5da13989-fd93-4657-b5e1-d429eb182b54",
   "metadata": {},
   "outputs": [],
   "source": [
    "import pandas as pd"
   ]
  },
  {
   "cell_type": "code",
   "execution_count": 19,
   "id": "06f12ea2-59a3-481f-b9db-82c5d5f89872",
   "metadata": {},
   "outputs": [],
   "source": [
    "df = pd.DataFrame(X)\n",
    "df[\"y\"] = y"
   ]
  },
  {
   "cell_type": "code",
   "execution_count": 20,
   "id": "c1252e1f-d23a-4efb-812a-d07e341bc607",
   "metadata": {},
   "outputs": [],
   "source": [
    "X = df.drop(columns=\"y\")\n",
    "y = df[\"y\"]"
   ]
  },
  {
   "cell_type": "code",
   "execution_count": 21,
   "id": "e64585af-ad25-43d9-a049-8374518daead",
   "metadata": {},
   "outputs": [
    {
     "data": {
      "text/html": [
       "<style>#sk-container-id-1 {color: black;}#sk-container-id-1 pre{padding: 0;}#sk-container-id-1 div.sk-toggleable {background-color: white;}#sk-container-id-1 label.sk-toggleable__label {cursor: pointer;display: block;width: 100%;margin-bottom: 0;padding: 0.3em;box-sizing: border-box;text-align: center;}#sk-container-id-1 label.sk-toggleable__label-arrow:before {content: \"▸\";float: left;margin-right: 0.25em;color: #696969;}#sk-container-id-1 label.sk-toggleable__label-arrow:hover:before {color: black;}#sk-container-id-1 div.sk-estimator:hover label.sk-toggleable__label-arrow:before {color: black;}#sk-container-id-1 div.sk-toggleable__content {max-height: 0;max-width: 0;overflow: hidden;text-align: left;background-color: #f0f8ff;}#sk-container-id-1 div.sk-toggleable__content pre {margin: 0.2em;color: black;border-radius: 0.25em;background-color: #f0f8ff;}#sk-container-id-1 input.sk-toggleable__control:checked~div.sk-toggleable__content {max-height: 200px;max-width: 100%;overflow: auto;}#sk-container-id-1 input.sk-toggleable__control:checked~label.sk-toggleable__label-arrow:before {content: \"▾\";}#sk-container-id-1 div.sk-estimator input.sk-toggleable__control:checked~label.sk-toggleable__label {background-color: #d4ebff;}#sk-container-id-1 div.sk-label input.sk-toggleable__control:checked~label.sk-toggleable__label {background-color: #d4ebff;}#sk-container-id-1 input.sk-hidden--visually {border: 0;clip: rect(1px 1px 1px 1px);clip: rect(1px, 1px, 1px, 1px);height: 1px;margin: -1px;overflow: hidden;padding: 0;position: absolute;width: 1px;}#sk-container-id-1 div.sk-estimator {font-family: monospace;background-color: #f0f8ff;border: 1px dotted black;border-radius: 0.25em;box-sizing: border-box;margin-bottom: 0.5em;}#sk-container-id-1 div.sk-estimator:hover {background-color: #d4ebff;}#sk-container-id-1 div.sk-parallel-item::after {content: \"\";width: 100%;border-bottom: 1px solid gray;flex-grow: 1;}#sk-container-id-1 div.sk-label:hover label.sk-toggleable__label {background-color: #d4ebff;}#sk-container-id-1 div.sk-serial::before {content: \"\";position: absolute;border-left: 1px solid gray;box-sizing: border-box;top: 0;bottom: 0;left: 50%;z-index: 0;}#sk-container-id-1 div.sk-serial {display: flex;flex-direction: column;align-items: center;background-color: white;padding-right: 0.2em;padding-left: 0.2em;position: relative;}#sk-container-id-1 div.sk-item {position: relative;z-index: 1;}#sk-container-id-1 div.sk-parallel {display: flex;align-items: stretch;justify-content: center;background-color: white;position: relative;}#sk-container-id-1 div.sk-item::before, #sk-container-id-1 div.sk-parallel-item::before {content: \"\";position: absolute;border-left: 1px solid gray;box-sizing: border-box;top: 0;bottom: 0;left: 50%;z-index: -1;}#sk-container-id-1 div.sk-parallel-item {display: flex;flex-direction: column;z-index: 1;position: relative;background-color: white;}#sk-container-id-1 div.sk-parallel-item:first-child::after {align-self: flex-end;width: 50%;}#sk-container-id-1 div.sk-parallel-item:last-child::after {align-self: flex-start;width: 50%;}#sk-container-id-1 div.sk-parallel-item:only-child::after {width: 0;}#sk-container-id-1 div.sk-dashed-wrapped {border: 1px dashed gray;margin: 0 0.4em 0.5em 0.4em;box-sizing: border-box;padding-bottom: 0.4em;background-color: white;}#sk-container-id-1 div.sk-label label {font-family: monospace;font-weight: bold;display: inline-block;line-height: 1.2em;}#sk-container-id-1 div.sk-label-container {text-align: center;}#sk-container-id-1 div.sk-container {/* jupyter's `normalize.less` sets `[hidden] { display: none; }` but bootstrap.min.css set `[hidden] { display: none !important; }` so we also need the `!important` here to be able to override the default hidden behavior on the sphinx rendered scikit-learn.org. See: https://github.com/scikit-learn/scikit-learn/issues/21755 */display: inline-block !important;position: relative;}#sk-container-id-1 div.sk-text-repr-fallback {display: none;}</style><div id=\"sk-container-id-1\" class=\"sk-top-container\"><div class=\"sk-text-repr-fallback\"><pre>LinearRegression()</pre><b>In a Jupyter environment, please rerun this cell to show the HTML representation or trust the notebook. <br />On GitHub, the HTML representation is unable to render, please try loading this page with nbviewer.org.</b></div><div class=\"sk-container\" hidden><div class=\"sk-item\"><div class=\"sk-estimator sk-toggleable\"><input class=\"sk-toggleable__control sk-hidden--visually\" id=\"sk-estimator-id-1\" type=\"checkbox\" checked><label for=\"sk-estimator-id-1\" class=\"sk-toggleable__label sk-toggleable__label-arrow\">LinearRegression</label><div class=\"sk-toggleable__content\"><pre>LinearRegression()</pre></div></div></div></div></div>"
      ],
      "text/plain": [
       "LinearRegression()"
      ]
     },
     "execution_count": 21,
     "metadata": {},
     "output_type": "execute_result"
    }
   ],
   "source": [
    "# if shape error try to make it df[['y']]\n",
    "model.fit(X, y)"
   ]
  },
  {
   "cell_type": "code",
   "execution_count": 24,
   "id": "1ce84bde-e414-470c-8379-402d0674bc8c",
   "metadata": {},
   "outputs": [
    {
     "data": {
      "text/html": [
       "<div>\n",
       "<style scoped>\n",
       "    .dataframe tbody tr th:only-of-type {\n",
       "        vertical-align: middle;\n",
       "    }\n",
       "\n",
       "    .dataframe tbody tr th {\n",
       "        vertical-align: top;\n",
       "    }\n",
       "\n",
       "    .dataframe thead th {\n",
       "        text-align: right;\n",
       "    }\n",
       "</style>\n",
       "<table border=\"1\" class=\"dataframe\">\n",
       "  <thead>\n",
       "    <tr style=\"text-align: right;\">\n",
       "      <th></th>\n",
       "      <th>mpg</th>\n",
       "      <th>cylinders</th>\n",
       "      <th>displacement</th>\n",
       "      <th>horsepower</th>\n",
       "      <th>weight</th>\n",
       "      <th>acceleration</th>\n",
       "      <th>model_year</th>\n",
       "      <th>origin</th>\n",
       "      <th>name</th>\n",
       "    </tr>\n",
       "  </thead>\n",
       "  <tbody>\n",
       "    <tr>\n",
       "      <th>0</th>\n",
       "      <td>18.0</td>\n",
       "      <td>8</td>\n",
       "      <td>307.0</td>\n",
       "      <td>130.0</td>\n",
       "      <td>3504</td>\n",
       "      <td>12.0</td>\n",
       "      <td>70</td>\n",
       "      <td>usa</td>\n",
       "      <td>chevrolet chevelle malibu</td>\n",
       "    </tr>\n",
       "    <tr>\n",
       "      <th>1</th>\n",
       "      <td>15.0</td>\n",
       "      <td>8</td>\n",
       "      <td>350.0</td>\n",
       "      <td>165.0</td>\n",
       "      <td>3693</td>\n",
       "      <td>11.5</td>\n",
       "      <td>70</td>\n",
       "      <td>usa</td>\n",
       "      <td>buick skylark 320</td>\n",
       "    </tr>\n",
       "    <tr>\n",
       "      <th>2</th>\n",
       "      <td>18.0</td>\n",
       "      <td>8</td>\n",
       "      <td>318.0</td>\n",
       "      <td>150.0</td>\n",
       "      <td>3436</td>\n",
       "      <td>11.0</td>\n",
       "      <td>70</td>\n",
       "      <td>usa</td>\n",
       "      <td>plymouth satellite</td>\n",
       "    </tr>\n",
       "    <tr>\n",
       "      <th>3</th>\n",
       "      <td>16.0</td>\n",
       "      <td>8</td>\n",
       "      <td>304.0</td>\n",
       "      <td>150.0</td>\n",
       "      <td>3433</td>\n",
       "      <td>12.0</td>\n",
       "      <td>70</td>\n",
       "      <td>usa</td>\n",
       "      <td>amc rebel sst</td>\n",
       "    </tr>\n",
       "    <tr>\n",
       "      <th>4</th>\n",
       "      <td>17.0</td>\n",
       "      <td>8</td>\n",
       "      <td>302.0</td>\n",
       "      <td>140.0</td>\n",
       "      <td>3449</td>\n",
       "      <td>10.5</td>\n",
       "      <td>70</td>\n",
       "      <td>usa</td>\n",
       "      <td>ford torino</td>\n",
       "    </tr>\n",
       "    <tr>\n",
       "      <th>...</th>\n",
       "      <td>...</td>\n",
       "      <td>...</td>\n",
       "      <td>...</td>\n",
       "      <td>...</td>\n",
       "      <td>...</td>\n",
       "      <td>...</td>\n",
       "      <td>...</td>\n",
       "      <td>...</td>\n",
       "      <td>...</td>\n",
       "    </tr>\n",
       "    <tr>\n",
       "      <th>393</th>\n",
       "      <td>27.0</td>\n",
       "      <td>4</td>\n",
       "      <td>140.0</td>\n",
       "      <td>86.0</td>\n",
       "      <td>2790</td>\n",
       "      <td>15.6</td>\n",
       "      <td>82</td>\n",
       "      <td>usa</td>\n",
       "      <td>ford mustang gl</td>\n",
       "    </tr>\n",
       "    <tr>\n",
       "      <th>394</th>\n",
       "      <td>44.0</td>\n",
       "      <td>4</td>\n",
       "      <td>97.0</td>\n",
       "      <td>52.0</td>\n",
       "      <td>2130</td>\n",
       "      <td>24.6</td>\n",
       "      <td>82</td>\n",
       "      <td>europe</td>\n",
       "      <td>vw pickup</td>\n",
       "    </tr>\n",
       "    <tr>\n",
       "      <th>395</th>\n",
       "      <td>32.0</td>\n",
       "      <td>4</td>\n",
       "      <td>135.0</td>\n",
       "      <td>84.0</td>\n",
       "      <td>2295</td>\n",
       "      <td>11.6</td>\n",
       "      <td>82</td>\n",
       "      <td>usa</td>\n",
       "      <td>dodge rampage</td>\n",
       "    </tr>\n",
       "    <tr>\n",
       "      <th>396</th>\n",
       "      <td>28.0</td>\n",
       "      <td>4</td>\n",
       "      <td>120.0</td>\n",
       "      <td>79.0</td>\n",
       "      <td>2625</td>\n",
       "      <td>18.6</td>\n",
       "      <td>82</td>\n",
       "      <td>usa</td>\n",
       "      <td>ford ranger</td>\n",
       "    </tr>\n",
       "    <tr>\n",
       "      <th>397</th>\n",
       "      <td>31.0</td>\n",
       "      <td>4</td>\n",
       "      <td>119.0</td>\n",
       "      <td>82.0</td>\n",
       "      <td>2720</td>\n",
       "      <td>19.4</td>\n",
       "      <td>82</td>\n",
       "      <td>usa</td>\n",
       "      <td>chevy s-10</td>\n",
       "    </tr>\n",
       "  </tbody>\n",
       "</table>\n",
       "<p>398 rows × 9 columns</p>\n",
       "</div>"
      ],
      "text/plain": [
       "      mpg  cylinders  displacement  horsepower  weight  acceleration  \\\n",
       "0    18.0          8         307.0       130.0    3504          12.0   \n",
       "1    15.0          8         350.0       165.0    3693          11.5   \n",
       "2    18.0          8         318.0       150.0    3436          11.0   \n",
       "3    16.0          8         304.0       150.0    3433          12.0   \n",
       "4    17.0          8         302.0       140.0    3449          10.5   \n",
       "..    ...        ...           ...         ...     ...           ...   \n",
       "393  27.0          4         140.0        86.0    2790          15.6   \n",
       "394  44.0          4          97.0        52.0    2130          24.6   \n",
       "395  32.0          4         135.0        84.0    2295          11.6   \n",
       "396  28.0          4         120.0        79.0    2625          18.6   \n",
       "397  31.0          4         119.0        82.0    2720          19.4   \n",
       "\n",
       "     model_year  origin                       name  \n",
       "0            70     usa  chevrolet chevelle malibu  \n",
       "1            70     usa          buick skylark 320  \n",
       "2            70     usa         plymouth satellite  \n",
       "3            70     usa              amc rebel sst  \n",
       "4            70     usa                ford torino  \n",
       "..          ...     ...                        ...  \n",
       "393          82     usa            ford mustang gl  \n",
       "394          82  europe                  vw pickup  \n",
       "395          82     usa              dodge rampage  \n",
       "396          82     usa                ford ranger  \n",
       "397          82     usa                 chevy s-10  \n",
       "\n",
       "[398 rows x 9 columns]"
      ]
     },
     "execution_count": 24,
     "metadata": {},
     "output_type": "execute_result"
    }
   ],
   "source": [
    "import seaborn as sns\n",
    "\n",
    "df = sns.load_dataset(\"mpg\")\n",
    "df\n"
   ]
  },
  {
   "cell_type": "code",
   "execution_count": 25,
   "id": "ad95c1cc-e761-4a5f-978b-0057ca424846",
   "metadata": {},
   "outputs": [],
   "source": [
    "from sklearn.datasets import make_classification"
   ]
  },
  {
   "cell_type": "code",
   "execution_count": 38,
   "id": "9529364e-8a2b-4cd5-9750-7bdb712b1895",
   "metadata": {
    "scrolled": true
   },
   "outputs": [
    {
     "data": {
      "text/plain": [
       "(array([[ 1.32974573e+00,  1.95182221e+00,  1.37980884e+00, ...,\n",
       "          2.39999068e-01, -1.85954846e+00, -2.52918826e+00],\n",
       "        [-2.48595837e+00, -1.00741944e+00,  6.03493795e-02, ...,\n",
       "         -8.10804361e-01,  1.16553355e+00,  1.17074729e+00],\n",
       "        [ 7.60466451e-01, -3.19294210e-03, -1.48085231e+00, ...,\n",
       "         -2.59893883e+00, -2.19541117e-01, -2.07696370e+00],\n",
       "        ...,\n",
       "        [ 3.83510308e-01,  3.61346945e-02,  1.94921945e+00, ...,\n",
       "         -5.18435941e-01,  9.91075373e-01, -5.22580837e-01],\n",
       "        [-4.82500006e-01, -2.09036553e+00, -3.81184376e+00, ...,\n",
       "          8.05264893e-01,  1.85230775e-02,  1.60554537e-01],\n",
       "        [ 1.26168270e+00,  2.03786389e-01, -1.77682524e-01, ...,\n",
       "         -1.94706386e-01, -9.83443589e-01,  5.30108110e-01]]),\n",
       " array([1, 2, 1, 1, 0, 0, 2, 0, 2, 1, 0, 1, 1, 2, 1, 0, 2, 2, 0, 2, 1, 0,\n",
       "        0, 2, 2, 0, 1, 1, 2, 1, 1, 0, 1, 2, 1, 2, 0, 2, 0, 0, 0, 1, 2, 1,\n",
       "        1, 2, 0, 2, 1, 2, 2, 1, 0, 2, 0, 1, 1, 1, 0, 1, 0, 1, 2, 2, 1, 2,\n",
       "        2, 2, 2, 1, 2, 1, 0, 2, 0, 1, 1, 0, 0, 2, 0, 0, 0, 0, 1, 1, 2, 2,\n",
       "        0, 0, 1, 0, 1, 1, 2, 2, 1, 0, 2, 0, 2, 2, 0, 2, 0, 2, 2, 0, 2, 2,\n",
       "        1, 2, 1, 0, 2, 0, 1, 2, 1, 2, 2, 2, 1, 1, 1, 2, 1, 0, 1, 1, 2, 0,\n",
       "        2, 0, 0, 0, 2, 2, 1, 2, 1, 1, 2, 0, 1, 2, 1, 2, 2, 0, 1, 0, 0, 2,\n",
       "        0, 2, 0, 0, 1, 1, 1, 2, 2, 0, 0, 1, 0, 2, 0, 0, 1, 2, 2, 0, 1, 0,\n",
       "        1, 1, 0, 0, 2, 0, 0, 2, 1, 0, 0, 0, 0, 0, 2, 0, 2, 2, 1, 0, 0, 0,\n",
       "        1, 1, 0, 1, 0, 0, 0, 2, 2, 2, 2, 2, 1, 2, 0, 0, 1, 1, 1, 1, 2, 1,\n",
       "        1, 1, 0, 0, 1, 0, 2, 2, 2, 0, 1, 1, 0, 1, 1, 2, 0, 0, 0, 1, 2, 0,\n",
       "        0, 2, 0, 0, 1, 1, 1, 1, 2, 2, 1, 1, 2, 0, 2, 1, 0, 1, 0, 2, 0, 2,\n",
       "        0, 2, 1, 0, 1, 0, 2, 1, 1, 2, 0, 0, 2, 0, 2, 1, 2, 1, 2, 1, 0, 2,\n",
       "        0, 2, 0, 2, 1, 2, 2, 1, 1, 0, 2, 1, 2, 1, 0, 1, 1, 2, 1, 1, 0, 0,\n",
       "        1, 0, 0, 2, 0, 1, 0, 0, 0, 1, 1, 2, 1, 0, 0, 0, 1, 1, 0, 0, 2, 0,\n",
       "        2, 0, 0, 0, 2, 2, 0, 1, 1, 0, 1, 0, 2, 1, 1, 1, 1, 2, 0, 1, 2, 1,\n",
       "        1, 2, 2, 1, 0, 1, 1, 0, 1, 0, 2, 1, 0, 1, 0, 0, 0, 1, 1, 0, 0, 2,\n",
       "        2, 0, 1, 0, 0, 0, 2, 0, 1, 1, 1, 2, 0, 2, 1, 1, 1, 1, 2, 1, 0, 1,\n",
       "        0, 1, 0, 2, 1, 2, 2, 0, 2, 0, 1, 2, 1, 0, 2, 1, 2, 1, 1, 2, 0, 0,\n",
       "        2, 0, 2, 1, 0, 1, 0, 1, 1, 1, 0, 1, 2, 2, 1, 2, 1, 0, 2, 0, 1, 2,\n",
       "        2, 0, 1, 2, 1, 0, 0, 2, 2, 1, 2, 2, 0, 1, 0, 2, 2, 1, 2, 0, 2, 1,\n",
       "        1, 0, 0, 2, 1, 1, 0, 1, 2, 0, 2, 0, 0, 2, 2, 2, 0, 1, 2, 0, 0, 0,\n",
       "        1, 2, 2, 2, 0, 2, 0, 2, 1, 1, 1, 2, 2, 0, 0, 2, 1, 2, 0, 0, 0, 1,\n",
       "        1, 1, 2, 1, 1, 1, 1, 1, 1, 0, 0, 2, 2, 2, 0, 2, 2, 2, 2, 0, 0, 2,\n",
       "        2, 1, 2, 1, 0, 2, 0, 0, 1, 2, 0, 1, 2, 2, 2, 1, 0, 2, 0, 2, 1, 2,\n",
       "        1, 1, 2, 1, 0, 2, 2, 0, 1, 2, 0, 0, 2, 1, 2, 0, 1, 0, 0, 0, 1, 0,\n",
       "        1, 0, 0, 1, 1, 2, 2, 1, 1, 0, 2, 0, 1, 0, 1, 0, 2, 0, 2, 2, 2, 0,\n",
       "        2, 1, 0, 0, 1, 0, 2, 1, 1, 1, 0, 2, 2, 1, 2, 0, 0, 2, 0, 0, 1, 1,\n",
       "        0, 2, 2, 2, 1, 2, 0, 2, 0, 2, 2, 0, 2, 1, 2, 1, 2, 1, 2, 2, 2, 2,\n",
       "        0, 0, 2, 2, 2, 1, 2, 1, 2, 1, 1, 1, 2, 1, 1, 1, 2, 2, 1, 0, 2, 0,\n",
       "        1, 0, 1, 1, 1, 0, 0, 0, 1, 0, 1, 0, 0, 0, 0, 1, 0, 1, 2, 2, 0, 1,\n",
       "        2, 1, 2, 0, 0, 2, 1, 2, 1, 1, 0, 1, 0, 1, 1, 2, 0, 0, 0, 1, 1, 0,\n",
       "        2, 1, 0, 0, 2, 2, 1, 0, 1, 2, 0, 0, 2, 1, 1, 2, 2, 1, 0, 1, 0, 1,\n",
       "        2, 1, 0, 1, 0, 1, 2, 2, 0, 1, 0, 1, 2, 1, 1, 0, 1, 0, 1, 2, 2, 1,\n",
       "        1, 1, 0, 0, 2, 2, 0, 0, 2, 2, 0, 1, 1, 2, 0, 1, 1, 2, 2, 0, 0, 1,\n",
       "        0, 1, 1, 0, 0, 0, 0, 2, 1, 2, 0, 0, 1, 0, 1, 2, 2, 1, 0, 0, 0, 0,\n",
       "        1, 2, 0, 0, 0, 2, 2, 0, 1, 2, 0, 2, 2, 1, 0, 2, 0, 1, 1, 2, 0, 1,\n",
       "        0, 1, 0, 0, 2, 1, 2, 2, 0, 0, 2, 1, 2, 2, 0, 0, 2, 2, 2, 0, 2, 2,\n",
       "        0, 2, 1, 1, 2, 2, 0, 2, 0, 2, 1, 1, 0, 1, 2, 2, 1, 1, 2, 2, 1, 2,\n",
       "        2, 2, 2, 2, 2, 2, 2, 0, 2, 1, 2, 2, 0, 0, 0, 2, 0, 2, 0, 1, 0, 0,\n",
       "        1, 1, 2, 0, 2, 1, 2, 0, 0, 0, 0, 1, 0, 0, 2, 2, 2, 2, 2, 0, 1, 2,\n",
       "        0, 2, 0, 0, 1, 1, 2, 2, 2, 2, 2, 0, 1, 2, 2, 1, 0, 2, 2, 1, 2, 2,\n",
       "        1, 0, 2, 1, 0, 2, 2, 1, 2, 1, 0, 2, 1, 1, 1, 0, 1, 0, 0, 1, 0, 1,\n",
       "        0, 2, 1, 1, 2, 1, 1, 1, 1, 1, 0, 0, 0, 2, 2, 0, 2, 2, 2, 2, 0, 1,\n",
       "        1, 2, 1, 1, 1, 2, 1, 1, 1, 1, 2, 2, 0, 2, 2, 0, 1, 0, 1, 1, 0, 1,\n",
       "        0, 0, 0, 1, 2, 2, 0, 2, 1, 0]))"
      ]
     },
     "execution_count": 38,
     "metadata": {},
     "output_type": "execute_result"
    }
   ],
   "source": [
    "X, y = make_classification(1000, 20, n_classes=3, n_informative=5)\n",
    "X,y"
   ]
  },
  {
   "cell_type": "code",
   "execution_count": 34,
   "id": "b3e053f0-093e-444b-b782-ff7d90769dc9",
   "metadata": {},
   "outputs": [
    {
     "data": {
      "text/plain": [
       "0.797"
      ]
     },
     "execution_count": 34,
     "metadata": {},
     "output_type": "execute_result"
    }
   ],
   "source": [
    "from sklearn.metrics import precision_score, recall_score, accuracy_score\n",
    "from sklearn.neighbors import KNeighborsClassifier\n",
    "model = KNeighborsClassifier()\n",
    "model.fit(X, y)\n",
    "y_pred=model.predict(X)\n",
    "accuracy_score(y,y_pred)\n",
    "precision_score(y, y_pred, average='micro')\n",
    "recall_score(y, y_pred, average='micro')"
   ]
  },
  {
   "cell_type": "code",
   "execution_count": 35,
   "id": "7af1e240-837c-48d8-804b-dc8e962b0198",
   "metadata": {},
   "outputs": [
    {
     "name": "stdout",
     "output_type": "stream",
     "text": [
      "Accuracy: 0.797\n",
      "Precision: 0.797\n",
      "Recall: 0.797\n"
     ]
    }
   ],
   "source": [
    "from sklearn.metrics import precision_score, recall_score, accuracy_score\n",
    "from sklearn.neighbors import KNeighborsClassifier\n",
    "\n",
    "# Assuming X and y are already defined\n",
    "model = KNeighborsClassifier()\n",
    "model.fit(X, y)\n",
    "\n",
    "y_pred = model.predict(X)\n",
    "\n",
    "# Calculating accuracy, precision, and recall\n",
    "accuracy = accuracy_score(y, y_pred)\n",
    "precision = precision_score(y, y_pred, average='micro')\n",
    "recall = recall_score(y, y_pred, average='micro')\n",
    "\n",
    "print(f'Accuracy: {accuracy}')\n",
    "print(f'Precision: {precision}')\n",
    "print(f'Recall: {recall}')\n"
   ]
  },
  {
   "cell_type": "code",
   "execution_count": null,
   "id": "185d0118-e90d-44f7-b3af-b3fba5f181b5",
   "metadata": {},
   "outputs": [],
   "source": []
  }
 ],
 "metadata": {
  "kernelspec": {
   "display_name": "Python 3 (ipykernel)",
   "language": "python",
   "name": "python3"
  },
  "language_info": {
   "codemirror_mode": {
    "name": "ipython",
    "version": 3
   },
   "file_extension": ".py",
   "mimetype": "text/x-python",
   "name": "python",
   "nbconvert_exporter": "python",
   "pygments_lexer": "ipython3",
   "version": "3.8.10"
  }
 },
 "nbformat": 4,
 "nbformat_minor": 5
}
